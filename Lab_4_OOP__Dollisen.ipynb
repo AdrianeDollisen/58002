{
  "nbformat": 4,
  "nbformat_minor": 0,
  "metadata": {
    "colab": {
      "name": "Lab 4 OOP_ Dollisen.ipynb",
      "provenance": [],
      "authorship_tag": "ABX9TyOqwk4bOMGPGeChGnMuU1+x",
      "include_colab_link": true
    },
    "kernelspec": {
      "name": "python3",
      "display_name": "Python 3"
    },
    "language_info": {
      "name": "python"
    }
  },
  "cells": [
    {
      "cell_type": "markdown",
      "metadata": {
        "id": "view-in-github",
        "colab_type": "text"
      },
      "source": [
        "<a href=\"https://colab.research.google.com/github/AdrianeDollisen/58002/blob/main/Lab_4_OOP__Dollisen.ipynb\" target=\"_parent\"><img src=\"https://colab.research.google.com/assets/colab-badge.svg\" alt=\"Open In Colab\"/></a>"
      ]
    },
    {
      "cell_type": "markdown",
      "source": [
        "\n",
        "##Lab 4 in OOP\n"
      ],
      "metadata": {
        "id": "oKTcEeieOSEl"
      }
    },
    {
      "cell_type": "code",
      "source": [
        ""
      ],
      "metadata": {
        "id": "ncXGCb6DOgfd"
      },
      "execution_count": null,
      "outputs": []
    },
    {
      "cell_type": "code",
      "execution_count": null,
      "metadata": {
        "colab": {
          "base_uri": "https://localhost:8080/"
        },
        "outputId": "d80e68ce-d8b1-438b-9c53-6c3cd9934eb8",
        "id": "P7oI9atiOhqZ"
      },
      "outputs": [
        {
          "output_type": "stream",
          "name": "stdout",
          "text": [
            "Student 1\n",
            "___________________\n",
            "Prelim Marks of Student 1 is : 82.66 \n",
            "Student 2\n",
            "___________________\n",
            "Prelim Marks of Student 2 is : 79.1 \n",
            "Student 3\n",
            "___________________\n",
            "Prelim Marks of Student 3 is : 87.5 \n",
            "Student 1\n",
            "___________________\n",
            "Midterm Marks of Student 1 is : 82.66 \n",
            "Student 2\n",
            "___________________\n",
            "Midterm Marks of Student 2 is : 79.1 \n",
            "Student 3\n",
            "___________________\n",
            "Midterm Marks of Student 3 is : 87.5 \n",
            "Student 1\n",
            "___________________\n",
            "Final Marks of Student 1 is : 82.66 \n",
            "Student 2\n",
            "___________________\n",
            "Final Marks of Student 2 is : 79.1 \n",
            "Student 3\n",
            "___________________\n",
            "Final Marks of Student 3 is : 87.5 \n"
          ]
        }
      ],
      "source": [
        "\n",
        "class Person:\n",
        "  def __init__(self,std1,std2,std3,pre,mid,fin):\n",
        "    self.std1 = std1\n",
        "    self.std2 = std2\n",
        "    self.std3 = std3\n",
        "    self.pre = pre\n",
        "    self.mid = mid\n",
        "    self.fin = fin\n",
        "\n",
        "Student1 = { \"Name\":\"Student 1\",\n",
        "\t\t\"Prelim\" : [80],\n",
        "\t\t\"Midterm\" : [77],\n",
        "\t\t\"Final\" : [88.90]\n",
        "\t}\n",
        "\t\t\n",
        "Student2 = { \"Name\":\"Student 2\",\n",
        "\t\t\"Prelim\" : [75],\n",
        "\t\t\"Midterm\" : [80],\n",
        "\t\t\"Final\" : [81.50]\n",
        "\t\t}\n",
        "\n",
        "Student3 = { \"Name\" : \"Student 3\",\n",
        "\t\t\"Prelim\" : [90],\n",
        "\t\t\"Midterm\" : [91],\n",
        "\t\t\"Final\" : [83]\n",
        "\t\t}\n",
        "\n",
        "def get_average(marks):\n",
        "\n",
        "\ttotal_sum = sum(marks)\n",
        " \n",
        "\ttotal_sum = float(total_sum)\n",
        " \n",
        "\treturn total_sum / len(marks)\n",
        "\t\n",
        " \n",
        "def calculate_total_average(students):\n",
        "\n",
        "\tPrelim = get_average(students[\"Prelim\"])\n",
        " \n",
        "\tMidterm = get_average(students[\"Midterm\"])\n",
        " \n",
        "\tFinal = get_average(students[\"Final\"])\n",
        " \n",
        "\treturn (0.3 * Prelim + 0.3 * Midterm + 0.4 * Final)\n",
        "\n",
        "students = [Student1, Student2, Student3]\n",
        "\n",
        "for i in students :\n",
        "  print(i[\"Name\"])\n",
        "\n",
        "  print(\"___________________\")\n",
        "  print(\"Prelim Marks of %s is : %s \" %(i[\"Name\"],\n",
        "    calculate_total_average(i)))\n",
        "\n",
        "for i in students :\n",
        "  print(i[\"Name\"])\n",
        "\n",
        "  print(\"___________________\")\n",
        "  print(\"Midterm Marks of %s is : %s \" %(i[\"Name\"],\n",
        "    calculate_total_average(i)))\n",
        "\n",
        "for i in students :\n",
        "  print(i[\"Name\"])\n",
        "\n",
        "  print(\"___________________\")\n",
        "  print(\"Final Marks of %s is : %s \" %(i[\"Name\"],\n",
        "    calculate_total_average(i)))"
      ]
    }
  ]
}