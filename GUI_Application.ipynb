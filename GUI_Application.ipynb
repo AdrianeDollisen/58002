{
  "nbformat": 4,
  "nbformat_minor": 0,
  "metadata": {
    "colab": {
      "name": "GUI Application.ipynb",
      "provenance": [],
      "authorship_tag": "ABX9TyMlzl7A0/f8dZWSuDJnzlT0",
      "include_colab_link": true
    },
    "kernelspec": {
      "name": "python3",
      "display_name": "Python 3"
    },
    "language_info": {
      "name": "python"
    }
  },
  "cells": [
    {
      "cell_type": "markdown",
      "metadata": {
        "id": "view-in-github",
        "colab_type": "text"
      },
      "source": [
        "<a href=\"https://colab.research.google.com/github/AdrianeDollisen/58002/blob/main/GUI_Application.ipynb\" target=\"_parent\"><img src=\"https://colab.research.google.com/assets/colab-badge.svg\" alt=\"Open In Colab\"/></a>"
      ]
    },
    {
      "cell_type": "markdown",
      "source": [
        "Create an python program that displays the grade of a student in prelim, midterm, and finals"
      ],
      "metadata": {
        "id": "LLrRXcCSaBap"
      }
    },
    {
      "cell_type": "code",
      "source": [
        "\n",
        "\n",
        "\n",
        "Student_Name = 'Adriane B. Dollisen'#@param{type: \"string\"}\n",
        "prelim_grade =  90#@param{type:\"number\"}\n",
        "midterm_grade =  85#@param{type:\"number\"}\n",
        "final_grade =  90#@param{type:\"number\"}\n",
        "semestral=(prelim_grade*0.30+midterm_grade*0.30+final_grade*0.40)\n",
        "\n",
        "print(\"The semestral grade of the student is \" +str(round((semestral),2)))\n",
        "\n",
        "Gender=\"Male\"#@param[\"Male\", \"Female\"]\n",
        "Birthdate=\"2022-02-29\"#@param{type:\"date\"}\n",
        "\n",
        "print (Gender)\n",
        "print(\"Student Birthdate is\"+\":\"+ Birthdate)"
      ],
      "metadata": {
        "colab": {
          "base_uri": "https://localhost:8080/"
        },
        "id": "dYXEFxphaRwo",
        "outputId": "8088af6b-1676-43f8-fe6b-3ed7e962cfc6"
      },
      "execution_count": 26,
      "outputs": [
        {
          "output_type": "stream",
          "name": "stdout",
          "text": [
            "The semestral grade of the student is 88.5\n",
            "Male\n",
            "Student Birthdate is:2022-02-29\n"
          ]
        }
      ]
    }
  ]
}